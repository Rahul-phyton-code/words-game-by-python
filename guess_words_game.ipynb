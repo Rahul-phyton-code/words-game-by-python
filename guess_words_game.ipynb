{
  "nbformat": 4,
  "nbformat_minor": 0,
  "metadata": {
    "colab": {
      "provenance": [],
      "authorship_tag": "ABX9TyP0ORbXs3W2qGMVyGXIKfLt",
      "include_colab_link": true
    },
    "kernelspec": {
      "name": "python3",
      "display_name": "Python 3"
    },
    "language_info": {
      "name": "python"
    }
  },
  "cells": [
    {
      "cell_type": "markdown",
      "metadata": {
        "id": "view-in-github",
        "colab_type": "text"
      },
      "source": [
        "<a href=\"https://colab.research.google.com/github/Rahul-phyton-code/words-game-by-python/blob/main/guess_words_game.ipynb\" target=\"_parent\"><img src=\"https://colab.research.google.com/assets/colab-badge.svg\" alt=\"Open In Colab\"/></a>"
      ]
    },
    {
      "cell_type": "code",
      "execution_count": null,
      "metadata": {
        "colab": {
          "base_uri": "https://localhost:8080/"
        },
        "id": "HMkugzVHZbVm",
        "outputId": "0363e44b-f899-4f5f-8bac-821d47a5d1e8"
      },
      "outputs": [
        {
          "metadata": {
            "tags": null
          },
          "name": "stdout",
          "output_type": "stream",
          "text": [
            "Good Luck !  p\n",
            "Guess the characters\n",
            "_\n",
            "_\n",
            "_\n",
            "_\n",
            "_\n",
            "_\n",
            "\n",
            "Wrong\n",
            "You have 11 more guesses\n",
            "_\n",
            "_\n",
            "_\n",
            "_\n",
            "e _\n",
            "\n",
            "Wrong\n",
            "You have 10 more guesses\n",
            "_\n",
            "_\n",
            "_\n",
            "_\n",
            "e _\n",
            "\n",
            "Wrong\n",
            "You have 9 more guesses\n",
            "p _\n",
            "_\n",
            "y e _\n",
            "\n"
          ]
        }
      ],
      "source": [
        "import random\n",
        "# library that we use in order to choose\n",
        "# on random words from a list of words\n",
        "\n",
        "name = input(\"What is your name? \")\n",
        "\n",
        "# Here the user is asked to enter the name first\n",
        "\n",
        "print(\"Good Luck ! \", name)\n",
        "\n",
        "words = ['rainbow', 'computer', 'science', 'programming',\n",
        "\t\t'python', 'mathematics', 'player', 'condition',\n",
        "\t\t'reverse', 'water', 'board', 'geeks']\n",
        "\n",
        "# Function will choose one random\n",
        "# word from this list of words\n",
        "word = random.choice(words)\n",
        "\n",
        "\n",
        "print(\"Guess the characters\")\n",
        "\n",
        "guesses = ''\n",
        "\n",
        "# any number of turns can be used here\n",
        "turns = 12\n",
        "\n",
        "\n",
        "while turns > 0:\n",
        "\n",
        "\t# counts the number of times a user fails\n",
        "\tfailed = 0\n",
        "\n",
        "\t# all characters from the input\n",
        "\t# word taking one at a time.\n",
        "\tfor char in word:\n",
        "\n",
        "\t\t# comparing that character with\n",
        "\t\t# the character in guesses\n",
        "\t\tif char in guesses:\n",
        "\t\t\tprint(char, end=\" \")\n",
        "\n",
        "\t\telse:\n",
        "\t\t\tprint(\"_\")\n",
        "\n",
        "\t\t\t# for every failure 1 will be\n",
        "\t\t\t# incremented in failure\n",
        "\t\t\tfailed += 1\n",
        "\n",
        "\tif failed == 0:\n",
        "\t\t# user will win the game if failure is 0\n",
        "\t\t# and 'You Win' will be given as output\n",
        "\t\tprint(\"You Win\")\n",
        "\n",
        "\t\t# this print the correct word\n",
        "\t\tprint(\"The word is: \", word)\n",
        "\t\tbreak\n",
        "\n",
        "\t# if user has input the wrong alphabet then\n",
        "\t# it will ask user to enter another alphabet\n",
        "\tprint()\n",
        "\tguess = input(\"guess a character:\")\n",
        "\n",
        "\t# every input character will be stored in guesses\n",
        "\tguesses += guess\n",
        "\n",
        "\t# check input with the character in word\n",
        "\tif guess not in word:\n",
        "\n",
        "\t\tturns -= 1\n",
        "\n",
        "\t\t# if the character doesn’t match the word\n",
        "\t\t# then “Wrong” will be given as output\n",
        "\t\tprint(\"Wrong\")\n",
        "\n",
        "\t\t# this will print the number of\n",
        "\t\t# turns left for the user\n",
        "\t\tprint(\"You have\", + turns, 'more guesses')\n",
        "\n",
        "\t\tif turns == 0:\n",
        "\t\t\tprint(\"You Loose\")\n"
      ]
    }
  ]
}